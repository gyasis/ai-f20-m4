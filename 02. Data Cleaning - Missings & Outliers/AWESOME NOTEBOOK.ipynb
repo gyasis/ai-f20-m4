{
 "cells": [
  {
   "cell_type": "markdown",
   "metadata": {
    "colab_type": "text",
    "id": "dOu2oCieCN5R"
   },
   "source": [
    "# Imports"
   ]
  },
  {
   "cell_type": "code",
   "execution_count": 1,
   "metadata": {
    "ExecuteTime": {
     "end_time": "2020-07-15T16:51:25.648542Z",
     "start_time": "2020-07-15T16:51:25.203933Z"
    },
    "colab": {},
    "colab_type": "code",
    "id": "ZhB2ywL8CMKt"
   },
   "outputs": [
    {
     "name": "stdout",
     "output_type": "stream",
     "text": [
      "Pandas   1.2.0\n",
      "Sklearn  0.23.2\n"
     ]
    }
   ],
   "source": [
    "import numpy    as np\n",
    "import pandas   as pd\n",
    "import seaborn  as sb\n",
    "import matplotlib.pyplot as plt\n",
    "import sklearn  as skl\n",
    "import time\n",
    "from IPython.display import clear_output\n",
    "\n",
    "from sklearn import pipeline      # Pipeline, make_pipeline\n",
    "from sklearn import preprocessing # StandardScaler, OrdinalEncoder, LabelEncoder\n",
    "from sklearn import impute\n",
    "from sklearn import compose\n",
    "from sklearn import model_selection # train_test_split, StratifiedKFold, cross_val_score, cross_val_predict\n",
    "from sklearn import metrics         # accuracy_score, balanced_accuracy_score, plot_confusion_matrix\n",
    "from sklearn import inspection      # permutation_importance\n",
    "import scikitplot as skplt\n",
    "\n",
    "pd.set_option('display.max_columns', None)\n",
    "pd.set_option('display.max_rows', None)\n",
    "sb.set_style(\"whitegrid\")\n",
    "skl.set_config(display='diagram')\n",
    "\n",
    "print(\"Pandas  \", pd.__version__)\n",
    "print(\"Sklearn \", skl.__version__)"
   ]
  },
  {
   "cell_type": "code",
   "execution_count": 2,
   "metadata": {
    "ExecuteTime": {
     "end_time": "2020-07-15T16:51:25.767890Z",
     "start_time": "2020-07-15T16:51:25.649711Z"
    }
   },
   "outputs": [],
   "source": [
    "########################################################### CLASSIFIERS\n",
    "\n",
    "#### MULT\n",
    "from sklearn.linear_model   import LogisticRegression\n",
    "from sklearn.linear_model   import RidgeClassifier\n",
    "from sklearn.svm            import SVC\n",
    "from sklearn.svm            import NuSVC\n",
    "from sklearn.svm            import LinearSVC\n",
    "from sklearn.neural_network import MLPClassifier\n",
    "from sklearn.neighbors      import KNeighborsClassifier\n",
    "from sklearn.gaussian_process import GaussianProcessClassifier\n",
    "from sklearn.gaussian_process.kernels import RBF\n",
    "from sklearn.naive_bayes    import GaussianNB\n",
    "from sklearn.discriminant_analysis import QuadraticDiscriminantAnalysis\n",
    "from sklearn.ensemble       import StackingClassifier\n",
    "\n",
    "#### TREE\n",
    "from sklearn.tree          import DecisionTreeClassifier\n",
    "from sklearn.ensemble      import RandomForestClassifier\n",
    "from sklearn.ensemble      import ExtraTreesClassifier\n",
    "from sklearn.ensemble      import AdaBoostClassifier\n",
    "from sklearn.ensemble      import GradientBoostingClassifier\n",
    "from sklearn.experimental  import enable_hist_gradient_boosting\n",
    "from sklearn.ensemble      import HistGradientBoostingClassifier\n",
    "from xgboost               import XGBClassifier, plot_tree\n",
    "from lightgbm              import LGBMClassifier\n",
    "from catboost              import CatBoostClassifier\n",
    "#from ngboost               import NGBClassifier\n",
    "#from rgf.sklearn           import RGFClassifier, FastRGFClassifier\n",
    "\n",
    "########################################################### REGRESSORS\n",
    "from sklearn.linear_model  import ElasticNet, Ridge, Lasso, BayesianRidge, ARDRegression, TweedieRegressor\n",
    "from sklearn.svm           import LinearSVR, NuSVR, SVR\n",
    "from sklearn.ensemble      import BaggingRegressor\n",
    "from sklearn.kernel_ridge  import KernelRidge"
   ]
  },
  {
   "cell_type": "markdown",
   "metadata": {
    "colab_type": "text",
    "id": "mR4ktG_XCdJ_"
   },
   "source": [
    "# DATA\n",
    "\n",
    "### Read data"
   ]
  },
  {
   "cell_type": "code",
   "execution_count": 3,
   "metadata": {
    "ExecuteTime": {
     "end_time": "2020-07-15T16:51:26.264935Z",
     "start_time": "2020-07-15T16:51:26.112677Z"
    },
    "colab": {},
    "colab_type": "code",
    "id": "sXBzA_67AHmF"
   },
   "outputs": [],
   "source": [
    "df      = pd.read_csv(\"../datasets/titanic_train.csv\", index_col='PassengerId')\n",
    "df_test = pd.read_csv(\"../datasets/titanic_test.csv\",  index_col='PassengerId')"
   ]
  },
  {
   "cell_type": "markdown",
   "metadata": {},
   "source": [
    "### Feature Generation"
   ]
  },
  {
   "cell_type": "code",
   "execution_count": 4,
   "metadata": {},
   "outputs": [
    {
     "data": {
      "text/plain": [
       "Mr         517\n",
       "Miss       184\n",
       "Mrs        127\n",
       "Master      40\n",
       "Officer     18\n",
       "Royalty      5\n",
       "Name: Title, dtype: int64"
      ]
     },
     "execution_count": 4,
     "metadata": {},
     "output_type": "execute_result"
    }
   ],
   "source": [
    "Title_Dictionary = {\n",
    "    \"Capt\": \"Officer\",\n",
    "    \"Col\": \"Officer\",\n",
    "    \"Major\": \"Officer\",\n",
    "    \"Jonkheer\": \"Royalty\",\n",
    "    \"Don\": \"Royalty\",\n",
    "    \"Sir\" : \"Royalty\",\n",
    "    \"Dr\": \"Officer\",\n",
    "    \"Rev\": \"Officer\",\n",
    "    \"the Countess\":\"Royalty\",\n",
    "    \"Mme\": \"Mrs\",\n",
    "    \"Mlle\": \"Miss\",\n",
    "    \"Ms\": \"Mrs\",\n",
    "    \"Mr\" : \"Mr\",\n",
    "    \"Mrs\" : \"Mrs\",\n",
    "    \"Miss\" : \"Miss\",\n",
    "    \"Master\" : \"Master\",\n",
    "    \"Lady\" : \"Royalty\"\n",
    "}\n",
    "\n",
    "df['Title'] = df['Name'].map(lambda name:name.split(',')[1].split('.')[0].strip())\n",
    "df['Title'] = df.Title.map(Title_Dictionary)\n",
    "df['Title'].value_counts()"
   ]
  },
  {
   "cell_type": "code",
   "execution_count": 5,
   "metadata": {},
   "outputs": [
    {
     "data": {
      "text/plain": [
       "Mr         240\n",
       "Miss        78\n",
       "Mrs         73\n",
       "Master      21\n",
       "Officer      5\n",
       "Name: Title, dtype: int64"
      ]
     },
     "execution_count": 5,
     "metadata": {},
     "output_type": "execute_result"
    }
   ],
   "source": [
    "df_test['Title'] = df_test['Name'].map(lambda name:name.split(',')[1].split('.')[0].strip())\n",
    "df_test['Title'] = df_test.Title.map(Title_Dictionary)\n",
    "df_test['Title'].value_counts()"
   ]
  },
  {
   "cell_type": "code",
   "execution_count": 6,
   "metadata": {},
   "outputs": [
    {
     "data": {
      "text/html": [
       "<div>\n",
       "<style scoped>\n",
       "    .dataframe tbody tr th:only-of-type {\n",
       "        vertical-align: middle;\n",
       "    }\n",
       "\n",
       "    .dataframe tbody tr th {\n",
       "        vertical-align: top;\n",
       "    }\n",
       "\n",
       "    .dataframe thead th {\n",
       "        text-align: right;\n",
       "    }\n",
       "</style>\n",
       "<table border=\"1\" class=\"dataframe\">\n",
       "  <thead>\n",
       "    <tr style=\"text-align: right;\">\n",
       "      <th></th>\n",
       "      <th>Sex</th>\n",
       "      <th>Pclass</th>\n",
       "      <th>Title</th>\n",
       "      <th>mean</th>\n",
       "      <th>median</th>\n",
       "      <th>count</th>\n",
       "    </tr>\n",
       "  </thead>\n",
       "  <tbody>\n",
       "    <tr>\n",
       "      <th>0</th>\n",
       "      <td>female</td>\n",
       "      <td>1</td>\n",
       "      <td>Miss</td>\n",
       "      <td>29.744681</td>\n",
       "      <td>30.0</td>\n",
       "      <td>47</td>\n",
       "    </tr>\n",
       "    <tr>\n",
       "      <th>1</th>\n",
       "      <td>female</td>\n",
       "      <td>1</td>\n",
       "      <td>Mrs</td>\n",
       "      <td>40.400000</td>\n",
       "      <td>40.0</td>\n",
       "      <td>35</td>\n",
       "    </tr>\n",
       "    <tr>\n",
       "      <th>2</th>\n",
       "      <td>female</td>\n",
       "      <td>1</td>\n",
       "      <td>Officer</td>\n",
       "      <td>49.000000</td>\n",
       "      <td>49.0</td>\n",
       "      <td>1</td>\n",
       "    </tr>\n",
       "    <tr>\n",
       "      <th>3</th>\n",
       "      <td>female</td>\n",
       "      <td>1</td>\n",
       "      <td>Royalty</td>\n",
       "      <td>40.500000</td>\n",
       "      <td>40.5</td>\n",
       "      <td>2</td>\n",
       "    </tr>\n",
       "    <tr>\n",
       "      <th>4</th>\n",
       "      <td>female</td>\n",
       "      <td>2</td>\n",
       "      <td>Miss</td>\n",
       "      <td>22.390625</td>\n",
       "      <td>24.0</td>\n",
       "      <td>32</td>\n",
       "    </tr>\n",
       "    <tr>\n",
       "      <th>5</th>\n",
       "      <td>female</td>\n",
       "      <td>2</td>\n",
       "      <td>Mrs</td>\n",
       "      <td>33.547619</td>\n",
       "      <td>31.5</td>\n",
       "      <td>42</td>\n",
       "    </tr>\n",
       "    <tr>\n",
       "      <th>6</th>\n",
       "      <td>female</td>\n",
       "      <td>3</td>\n",
       "      <td>Miss</td>\n",
       "      <td>16.123188</td>\n",
       "      <td>18.0</td>\n",
       "      <td>69</td>\n",
       "    </tr>\n",
       "    <tr>\n",
       "      <th>7</th>\n",
       "      <td>female</td>\n",
       "      <td>3</td>\n",
       "      <td>Mrs</td>\n",
       "      <td>33.515152</td>\n",
       "      <td>31.0</td>\n",
       "      <td>33</td>\n",
       "    </tr>\n",
       "    <tr>\n",
       "      <th>8</th>\n",
       "      <td>male</td>\n",
       "      <td>1</td>\n",
       "      <td>Master</td>\n",
       "      <td>5.306667</td>\n",
       "      <td>4.0</td>\n",
       "      <td>3</td>\n",
       "    </tr>\n",
       "    <tr>\n",
       "      <th>9</th>\n",
       "      <td>male</td>\n",
       "      <td>1</td>\n",
       "      <td>Mr</td>\n",
       "      <td>41.580460</td>\n",
       "      <td>40.0</td>\n",
       "      <td>87</td>\n",
       "    </tr>\n",
       "    <tr>\n",
       "      <th>10</th>\n",
       "      <td>male</td>\n",
       "      <td>1</td>\n",
       "      <td>Officer</td>\n",
       "      <td>51.125000</td>\n",
       "      <td>51.0</td>\n",
       "      <td>8</td>\n",
       "    </tr>\n",
       "    <tr>\n",
       "      <th>11</th>\n",
       "      <td>male</td>\n",
       "      <td>1</td>\n",
       "      <td>Royalty</td>\n",
       "      <td>42.333333</td>\n",
       "      <td>40.0</td>\n",
       "      <td>3</td>\n",
       "    </tr>\n",
       "    <tr>\n",
       "      <th>12</th>\n",
       "      <td>male</td>\n",
       "      <td>2</td>\n",
       "      <td>Master</td>\n",
       "      <td>2.258889</td>\n",
       "      <td>1.0</td>\n",
       "      <td>9</td>\n",
       "    </tr>\n",
       "    <tr>\n",
       "      <th>13</th>\n",
       "      <td>male</td>\n",
       "      <td>2</td>\n",
       "      <td>Mr</td>\n",
       "      <td>32.768293</td>\n",
       "      <td>31.0</td>\n",
       "      <td>82</td>\n",
       "    </tr>\n",
       "    <tr>\n",
       "      <th>14</th>\n",
       "      <td>male</td>\n",
       "      <td>2</td>\n",
       "      <td>Officer</td>\n",
       "      <td>42.000000</td>\n",
       "      <td>46.5</td>\n",
       "      <td>8</td>\n",
       "    </tr>\n",
       "    <tr>\n",
       "      <th>15</th>\n",
       "      <td>male</td>\n",
       "      <td>3</td>\n",
       "      <td>Master</td>\n",
       "      <td>5.350833</td>\n",
       "      <td>4.0</td>\n",
       "      <td>24</td>\n",
       "    </tr>\n",
       "    <tr>\n",
       "      <th>16</th>\n",
       "      <td>male</td>\n",
       "      <td>3</td>\n",
       "      <td>Mr</td>\n",
       "      <td>28.724891</td>\n",
       "      <td>26.0</td>\n",
       "      <td>229</td>\n",
       "    </tr>\n",
       "  </tbody>\n",
       "</table>\n",
       "</div>"
      ],
      "text/plain": [
       "       Sex  Pclass    Title       mean  median  count\n",
       "0   female       1     Miss  29.744681    30.0     47\n",
       "1   female       1      Mrs  40.400000    40.0     35\n",
       "2   female       1  Officer  49.000000    49.0      1\n",
       "3   female       1  Royalty  40.500000    40.5      2\n",
       "4   female       2     Miss  22.390625    24.0     32\n",
       "5   female       2      Mrs  33.547619    31.5     42\n",
       "6   female       3     Miss  16.123188    18.0     69\n",
       "7   female       3      Mrs  33.515152    31.0     33\n",
       "8     male       1   Master   5.306667     4.0      3\n",
       "9     male       1       Mr  41.580460    40.0     87\n",
       "10    male       1  Officer  51.125000    51.0      8\n",
       "11    male       1  Royalty  42.333333    40.0      3\n",
       "12    male       2   Master   2.258889     1.0      9\n",
       "13    male       2       Mr  32.768293    31.0     82\n",
       "14    male       2  Officer  42.000000    46.5      8\n",
       "15    male       3   Master   5.350833     4.0     24\n",
       "16    male       3       Mr  28.724891    26.0    229"
      ]
     },
     "execution_count": 6,
     "metadata": {},
     "output_type": "execute_result"
    }
   ],
   "source": [
    "df.groupby(['Sex','Pclass','Title']).Age.agg([\"mean\",\"median\",\"count\"]).reset_index(drop=False)"
   ]
  },
  {
   "cell_type": "code",
   "execution_count": 7,
   "metadata": {},
   "outputs": [
    {
     "ename": "NameError",
     "evalue": "name 'GroupImputer' is not defined",
     "output_type": "error",
     "traceback": [
      "\u001b[0;31m---------------------------------------------------------------------------\u001b[0m",
      "\u001b[0;31mNameError\u001b[0m                                 Traceback (most recent call last)",
      "\u001b[0;32m<ipython-input-7-d23673543ee6>\u001b[0m in \u001b[0;36m<module>\u001b[0;34m\u001b[0m\n\u001b[0;32m----> 1\u001b[0;31m \u001b[0mimp\u001b[0m \u001b[0;34m=\u001b[0m \u001b[0mGroupImputer\u001b[0m\u001b[0;34m(\u001b[0m\u001b[0mgroup_cols\u001b[0m\u001b[0;34m=\u001b[0m\u001b[0;34m[\u001b[0m\u001b[0;34m'Sex'\u001b[0m\u001b[0;34m,\u001b[0m\u001b[0;34m'Pclass'\u001b[0m\u001b[0;34m,\u001b[0m\u001b[0;34m'Title'\u001b[0m\u001b[0;34m]\u001b[0m\u001b[0;34m,\u001b[0m \u001b[0mtarget\u001b[0m\u001b[0;34m=\u001b[0m\u001b[0;34m'Age'\u001b[0m\u001b[0;34m,\u001b[0m \u001b[0mmetric\u001b[0m\u001b[0;34m=\u001b[0m\u001b[0;34m'mean'\u001b[0m\u001b[0;34m)\u001b[0m\u001b[0;34m\u001b[0m\u001b[0;34m\u001b[0m\u001b[0m\n\u001b[0m\u001b[1;32m      2\u001b[0m \u001b[0;34m\u001b[0m\u001b[0m\n\u001b[1;32m      3\u001b[0m \u001b[0mdf_imp\u001b[0m \u001b[0;34m=\u001b[0m \u001b[0mpd\u001b[0m\u001b[0;34m.\u001b[0m\u001b[0mDataFrame\u001b[0m\u001b[0;34m(\u001b[0m\u001b[0mimp\u001b[0m\u001b[0;34m.\u001b[0m\u001b[0mfit_transform\u001b[0m\u001b[0;34m(\u001b[0m\u001b[0mdf\u001b[0m\u001b[0;34m)\u001b[0m\u001b[0;34m,\u001b[0m \u001b[0mcolumns\u001b[0m\u001b[0;34m=\u001b[0m\u001b[0mdf\u001b[0m\u001b[0;34m.\u001b[0m\u001b[0mcolumns\u001b[0m\u001b[0;34m)\u001b[0m\u001b[0;34m\u001b[0m\u001b[0;34m\u001b[0m\u001b[0m\n",
      "\u001b[0;31mNameError\u001b[0m: name 'GroupImputer' is not defined"
     ]
    }
   ],
   "source": [
    "imp = GroupImputer(group_cols=['Sex','Pclass','Title'], target='Age', metric='mean')\n",
    "\n",
    "df_imp = pd.DataFrame(imp.fit_transform(df), columns=df.columns)"
   ]
  },
  {
   "cell_type": "code",
   "execution_count": 8,
   "metadata": {},
   "outputs": [
    {
     "ename": "NameError",
     "evalue": "name 'df_imp' is not defined",
     "output_type": "error",
     "traceback": [
      "\u001b[0;31m---------------------------------------------------------------------------\u001b[0m",
      "\u001b[0;31mNameError\u001b[0m                                 Traceback (most recent call last)",
      "\u001b[0;32m<ipython-input-8-0b101a8ca613>\u001b[0m in \u001b[0;36m<module>\u001b[0;34m\u001b[0m\n\u001b[0;32m----> 1\u001b[0;31m \u001b[0mdf_imp\u001b[0m\u001b[0;34m\u001b[0m\u001b[0;34m\u001b[0m\u001b[0m\n\u001b[0m",
      "\u001b[0;31mNameError\u001b[0m: name 'df_imp' is not defined"
     ]
    }
   ],
   "source": [
    "df_imp"
   ]
  },
  {
   "cell_type": "code",
   "execution_count": 9,
   "metadata": {},
   "outputs": [],
   "source": [
    "#https://towardsdatascience.com/coding-a-custom-imputer-in-scikit-learn-31bd68e541de\n",
    "from sklearn.base import BaseEstimator, TransformerMixin\n",
    "from sklearn.utils.validation import check_is_fitted\n",
    "\n",
    "class GroupImputer(BaseEstimator, TransformerMixin):\n",
    "\n",
    "    def __init__(self, group_cols, target, metric='mean'):\n",
    "        \n",
    "        assert metric in ['mean', 'median'], 'Unrecognized value for metric, should be mean/median'\n",
    "        assert type(group_cols) == list, 'group_cols should be a list of columns'\n",
    "        assert type(target) == str, 'target should be a string'\n",
    "        \n",
    "        self.group_cols = group_cols\n",
    "        self.target = target\n",
    "        self.metric = metric\n",
    "    \n",
    "    def fit(self, X, y=None):\n",
    "        \n",
    "        print(X.shape)\n",
    "        \n",
    "        assert pd.isnull(X[self.group_cols]).any(axis=None) == False, 'There are missing values in group_cols'\n",
    "        \n",
    "        impute_map = X.groupby(self.group_cols)[self.target].agg(self.metric).reset_index(drop=False)\n",
    "        \n",
    "        self.impute_map_ = impute_map\n",
    "        \n",
    "        return self \n",
    "    \n",
    "    def transform(self, X, y=None):\n",
    "        \n",
    "        check_is_fitted(self, 'impute_map_') # make sure that the imputer was fitted\n",
    "        \n",
    "        X = X.copy()\n",
    "        \n",
    "        for index, row in self.impute_map_.iterrows():\n",
    "            ind = (X[self.group_cols] == row[self.group_cols]).all(axis=1)\n",
    "            X.loc[ind] = X.loc[ind].fillna(row[self.target])\n",
    "        \n",
    "        return X[[self.target]].values"
   ]
  },
  {
   "cell_type": "markdown",
   "metadata": {},
   "source": [
    "### Select data for experiment"
   ]
  },
  {
   "cell_type": "code",
   "execution_count": 10,
   "metadata": {
    "ExecuteTime": {
     "end_time": "2020-07-15T16:51:28.262165Z",
     "start_time": "2020-07-15T16:51:28.258859Z"
    }
   },
   "outputs": [],
   "source": [
    "x = df.drop(columns=[\"Survived\", 'Name', 'Ticket', 'Cabin']) # X DATA (WILL BE TRAIN+VALID DATA)\n",
    "y = df[\"Survived\"] # 0 = No, 1 = Yes\n",
    "\n",
    "x_test = df_test.drop(columns=['Name', 'Ticket', 'Cabin']) # # X_TEST DATA (NEW DATA)"
   ]
  },
  {
   "cell_type": "markdown",
   "metadata": {},
   "source": [
    "# PREPROCESSING\n",
    "\n",
    "### Select numerical and categorical variables"
   ]
  },
  {
   "cell_type": "code",
   "execution_count": 11,
   "metadata": {},
   "outputs": [
    {
     "name": "stdout",
     "output_type": "stream",
     "text": [
      "\n",
      "Numerical features:\n",
      " ['Pclass', 'SibSp', 'Parch', 'Fare']\n",
      "\n",
      "Categorical features:\n",
      " ['Sex', 'Embarked', 'Title']\n"
     ]
    }
   ],
   "source": [
    "cat_vars  = ['Sex', 'Embarked', 'Title']         # x.select_dtypes(include=[object]).columns.values.tolist()\n",
    "num_vars  = ['Pclass', 'SibSp', 'Parch', 'Fare'] # x.select_dtypes(exclude=[object]).columns.values.tolist()\n",
    "age_var   = ['Age', 'Sex', 'Pclass', 'Title']    # Imputate age by mean of grouping ['Sex', 'Pclass', 'Title']\n",
    "\n",
    "print(\"\\nNumerical features:\\n\", num_vars)\n",
    "print(\"\\nCategorical features:\\n\", cat_vars)"
   ]
  },
  {
   "cell_type": "markdown",
   "metadata": {},
   "source": [
    "### Preprocessing for Mult Models"
   ]
  },
  {
   "cell_type": "code",
   "execution_count": 12,
   "metadata": {},
   "outputs": [
    {
     "data": {
      "text/html": [
       "<style>div.sk-top-container {color: black;background-color: white;}div.sk-toggleable {background-color: white;}label.sk-toggleable__label {cursor: pointer;display: block;width: 100%;margin-bottom: 0;padding: 0.2em 0.3em;box-sizing: border-box;text-align: center;}div.sk-toggleable__content {max-height: 0;max-width: 0;overflow: hidden;text-align: left;background-color: #f0f8ff;}div.sk-toggleable__content pre {margin: 0.2em;color: black;border-radius: 0.25em;background-color: #f0f8ff;}input.sk-toggleable__control:checked~div.sk-toggleable__content {max-height: 200px;max-width: 100%;overflow: auto;}div.sk-estimator input.sk-toggleable__control:checked~label.sk-toggleable__label {background-color: #d4ebff;}div.sk-label input.sk-toggleable__control:checked~label.sk-toggleable__label {background-color: #d4ebff;}input.sk-hidden--visually {border: 0;clip: rect(1px 1px 1px 1px);clip: rect(1px, 1px, 1px, 1px);height: 1px;margin: -1px;overflow: hidden;padding: 0;position: absolute;width: 1px;}div.sk-estimator {font-family: monospace;background-color: #f0f8ff;margin: 0.25em 0.25em;border: 1px dotted black;border-radius: 0.25em;box-sizing: border-box;}div.sk-estimator:hover {background-color: #d4ebff;}div.sk-parallel-item::after {content: \"\";width: 100%;border-bottom: 1px solid gray;flex-grow: 1;}div.sk-label:hover label.sk-toggleable__label {background-color: #d4ebff;}div.sk-serial::before {content: \"\";position: absolute;border-left: 1px solid gray;box-sizing: border-box;top: 2em;bottom: 0;left: 50%;}div.sk-serial {display: flex;flex-direction: column;align-items: center;background-color: white;}div.sk-item {z-index: 1;}div.sk-parallel {display: flex;align-items: stretch;justify-content: center;background-color: white;}div.sk-parallel-item {display: flex;flex-direction: column;position: relative;background-color: white;}div.sk-parallel-item:first-child::after {align-self: flex-end;width: 50%;}div.sk-parallel-item:last-child::after {align-self: flex-start;width: 50%;}div.sk-parallel-item:only-child::after {width: 0;}div.sk-dashed-wrapped {border: 1px dashed gray;margin: 0.2em;box-sizing: border-box;padding-bottom: 0.1em;background-color: white;position: relative;}div.sk-label label {font-family: monospace;font-weight: bold;background-color: white;display: inline-block;line-height: 1.2em;}div.sk-label-container {position: relative;z-index: 2;text-align: center;}div.sk-container {display: inline-block;position: relative;}</style><div class=\"sk-top-container\"><div class=\"sk-container\"><div class=\"sk-item sk-dashed-wrapped\"><div class=\"sk-label-container\"><div class=\"sk-label sk-toggleable\"><input class=\"sk-toggleable__control sk-hidden--visually\" id=\"60f0a345-f472-42dd-8783-4441980d6f6a\" type=\"checkbox\" ><label class=\"sk-toggleable__label\" for=\"60f0a345-f472-42dd-8783-4441980d6f6a\">ColumnTransformer</label><div class=\"sk-toggleable__content\"><pre>ColumnTransformer(transformers=[('num',\n",
       "                                 Pipeline(steps=[('imputer',\n",
       "                                                  SimpleImputer(add_indicator=True)),\n",
       "                                                 ('scaler', StandardScaler())]),\n",
       "                                 ['Pclass', 'SibSp', 'Parch', 'Fare']),\n",
       "                                ('cat',\n",
       "                                 Pipeline(steps=[('imputer',\n",
       "                                                  SimpleImputer(fill_value='missing',\n",
       "                                                                strategy='constant')),\n",
       "                                                 ('onehot',\n",
       "                                                  OneHotEncoder(handle_unknown='ignore'))]),\n",
       "                                 ['Sex', 'Embarked', 'Title']),\n",
       "                                ('age',\n",
       "                                 Pipeline(steps=[('imputer',\n",
       "                                                  GroupImputer(group_cols=['Sex',\n",
       "                                                                           'Pclass',\n",
       "                                                                           'Title'],\n",
       "                                                               target='Age')),\n",
       "                                                 ('scaler', StandardScaler())]),\n",
       "                                 ['Age', 'Sex', 'Pclass', 'Title'])])</pre></div></div></div><div class=\"sk-parallel\"><div class=\"sk-parallel-item\"><div class=\"sk-item\"><div class=\"sk-label-container\"><div class=\"sk-label sk-toggleable\"><input class=\"sk-toggleable__control sk-hidden--visually\" id=\"b2ee3db2-db67-405f-ba23-90d5ff8421d6\" type=\"checkbox\" ><label class=\"sk-toggleable__label\" for=\"b2ee3db2-db67-405f-ba23-90d5ff8421d6\">num</label><div class=\"sk-toggleable__content\"><pre>['Pclass', 'SibSp', 'Parch', 'Fare']</pre></div></div></div><div class=\"sk-serial\"><div class=\"sk-item\"><div class=\"sk-serial\"><div class=\"sk-item\"><div class=\"sk-estimator sk-toggleable\"><input class=\"sk-toggleable__control sk-hidden--visually\" id=\"84563c91-61c4-4220-ab0b-9e6271151136\" type=\"checkbox\" ><label class=\"sk-toggleable__label\" for=\"84563c91-61c4-4220-ab0b-9e6271151136\">SimpleImputer</label><div class=\"sk-toggleable__content\"><pre>SimpleImputer(add_indicator=True)</pre></div></div></div><div class=\"sk-item\"><div class=\"sk-estimator sk-toggleable\"><input class=\"sk-toggleable__control sk-hidden--visually\" id=\"96f9c468-3238-4273-a6b4-5caaab69c0bb\" type=\"checkbox\" ><label class=\"sk-toggleable__label\" for=\"96f9c468-3238-4273-a6b4-5caaab69c0bb\">StandardScaler</label><div class=\"sk-toggleable__content\"><pre>StandardScaler()</pre></div></div></div></div></div></div></div></div><div class=\"sk-parallel-item\"><div class=\"sk-item\"><div class=\"sk-label-container\"><div class=\"sk-label sk-toggleable\"><input class=\"sk-toggleable__control sk-hidden--visually\" id=\"ba4065b0-7b4e-40cf-890c-b8251805e5f5\" type=\"checkbox\" ><label class=\"sk-toggleable__label\" for=\"ba4065b0-7b4e-40cf-890c-b8251805e5f5\">cat</label><div class=\"sk-toggleable__content\"><pre>['Sex', 'Embarked', 'Title']</pre></div></div></div><div class=\"sk-serial\"><div class=\"sk-item\"><div class=\"sk-serial\"><div class=\"sk-item\"><div class=\"sk-estimator sk-toggleable\"><input class=\"sk-toggleable__control sk-hidden--visually\" id=\"243fdbc5-538c-4e7d-a081-21c22e50c9d3\" type=\"checkbox\" ><label class=\"sk-toggleable__label\" for=\"243fdbc5-538c-4e7d-a081-21c22e50c9d3\">SimpleImputer</label><div class=\"sk-toggleable__content\"><pre>SimpleImputer(fill_value='missing', strategy='constant')</pre></div></div></div><div class=\"sk-item\"><div class=\"sk-estimator sk-toggleable\"><input class=\"sk-toggleable__control sk-hidden--visually\" id=\"29971db2-4ea4-49e6-902c-813e91c60aa7\" type=\"checkbox\" ><label class=\"sk-toggleable__label\" for=\"29971db2-4ea4-49e6-902c-813e91c60aa7\">OneHotEncoder</label><div class=\"sk-toggleable__content\"><pre>OneHotEncoder(handle_unknown='ignore')</pre></div></div></div></div></div></div></div></div><div class=\"sk-parallel-item\"><div class=\"sk-item\"><div class=\"sk-label-container\"><div class=\"sk-label sk-toggleable\"><input class=\"sk-toggleable__control sk-hidden--visually\" id=\"8e81bb42-179e-4956-ae93-be10854b21ef\" type=\"checkbox\" ><label class=\"sk-toggleable__label\" for=\"8e81bb42-179e-4956-ae93-be10854b21ef\">age</label><div class=\"sk-toggleable__content\"><pre>['Age', 'Sex', 'Pclass', 'Title']</pre></div></div></div><div class=\"sk-serial\"><div class=\"sk-item\"><div class=\"sk-serial\"><div class=\"sk-item\"><div class=\"sk-estimator sk-toggleable\"><input class=\"sk-toggleable__control sk-hidden--visually\" id=\"389e31fa-6e93-4679-8bf8-3f0558c8123d\" type=\"checkbox\" ><label class=\"sk-toggleable__label\" for=\"389e31fa-6e93-4679-8bf8-3f0558c8123d\">GroupImputer</label><div class=\"sk-toggleable__content\"><pre>GroupImputer(group_cols=['Sex', 'Pclass', 'Title'], target='Age')</pre></div></div></div><div class=\"sk-item\"><div class=\"sk-estimator sk-toggleable\"><input class=\"sk-toggleable__control sk-hidden--visually\" id=\"eff8475b-38d7-47e3-8861-2e5a684cece0\" type=\"checkbox\" ><label class=\"sk-toggleable__label\" for=\"eff8475b-38d7-47e3-8861-2e5a684cece0\">StandardScaler</label><div class=\"sk-toggleable__content\"><pre>StandardScaler()</pre></div></div></div></div></div></div></div></div></div></div></div></div>"
      ],
      "text/plain": [
       "ColumnTransformer(transformers=[('num',\n",
       "                                 Pipeline(steps=[('imputer',\n",
       "                                                  SimpleImputer(add_indicator=True)),\n",
       "                                                 ('scaler', StandardScaler())]),\n",
       "                                 ['Pclass', 'SibSp', 'Parch', 'Fare']),\n",
       "                                ('cat',\n",
       "                                 Pipeline(steps=[('imputer',\n",
       "                                                  SimpleImputer(fill_value='missing',\n",
       "                                                                strategy='constant')),\n",
       "                                                 ('onehot',\n",
       "                                                  OneHotEncoder(handle_unknown='ignore'))]),\n",
       "                                 ['Sex', 'Embarked', 'Title']),\n",
       "                                ('age',\n",
       "                                 Pipeline(steps=[('imputer',\n",
       "                                                  GroupImputer(group_cols=['Sex',\n",
       "                                                                           'Pclass',\n",
       "                                                                           'Title'],\n",
       "                                                               target='Age')),\n",
       "                                                 ('scaler', StandardScaler())]),\n",
       "                                 ['Age', 'Sex', 'Pclass', 'Title'])])"
      ]
     },
     "execution_count": 12,
     "metadata": {},
     "output_type": "execute_result"
    }
   ],
   "source": [
    "num_4_multModels = pipeline.Pipeline(steps=[\n",
    "    ('imputer', impute.SimpleImputer(strategy='mean', add_indicator=True)), # mean, median\n",
    "    ('scaler', preprocessing.StandardScaler())\n",
    "])\n",
    "\n",
    "cat_4_multModels = pipeline.Pipeline(steps=[\n",
    "    ('imputer', impute.SimpleImputer(strategy='constant', fill_value='missing')),\n",
    "    ('onehot', preprocessing.OneHotEncoder(handle_unknown='ignore'))\n",
    "])\n",
    "\n",
    "age_4_multModels = pipeline.Pipeline(steps=[\n",
    "    ('imputer', GroupImputer(group_cols=['Sex','Pclass','Title'], target='Age', metric='mean')),\n",
    "    ('scaler', preprocessing.StandardScaler())\n",
    "])\n",
    "\n",
    "mult_prepro = compose.ColumnTransformer(transformers=[\n",
    "    ('num', num_4_multModels, num_vars),\n",
    "    ('cat', cat_4_multModels, cat_vars),\n",
    "    ('age', age_4_multModels, age_var),\n",
    "], remainder='drop') # Drop other vars not specified in num_vars or cat_vars\n",
    "\n",
    "mult_prepro"
   ]
  },
  {
   "cell_type": "markdown",
   "metadata": {},
   "source": [
    "### Preprocessing for Tree Models"
   ]
  },
  {
   "cell_type": "code",
   "execution_count": 13,
   "metadata": {},
   "outputs": [
    {
     "data": {
      "text/html": [
       "<style>div.sk-top-container {color: black;background-color: white;}div.sk-toggleable {background-color: white;}label.sk-toggleable__label {cursor: pointer;display: block;width: 100%;margin-bottom: 0;padding: 0.2em 0.3em;box-sizing: border-box;text-align: center;}div.sk-toggleable__content {max-height: 0;max-width: 0;overflow: hidden;text-align: left;background-color: #f0f8ff;}div.sk-toggleable__content pre {margin: 0.2em;color: black;border-radius: 0.25em;background-color: #f0f8ff;}input.sk-toggleable__control:checked~div.sk-toggleable__content {max-height: 200px;max-width: 100%;overflow: auto;}div.sk-estimator input.sk-toggleable__control:checked~label.sk-toggleable__label {background-color: #d4ebff;}div.sk-label input.sk-toggleable__control:checked~label.sk-toggleable__label {background-color: #d4ebff;}input.sk-hidden--visually {border: 0;clip: rect(1px 1px 1px 1px);clip: rect(1px, 1px, 1px, 1px);height: 1px;margin: -1px;overflow: hidden;padding: 0;position: absolute;width: 1px;}div.sk-estimator {font-family: monospace;background-color: #f0f8ff;margin: 0.25em 0.25em;border: 1px dotted black;border-radius: 0.25em;box-sizing: border-box;}div.sk-estimator:hover {background-color: #d4ebff;}div.sk-parallel-item::after {content: \"\";width: 100%;border-bottom: 1px solid gray;flex-grow: 1;}div.sk-label:hover label.sk-toggleable__label {background-color: #d4ebff;}div.sk-serial::before {content: \"\";position: absolute;border-left: 1px solid gray;box-sizing: border-box;top: 2em;bottom: 0;left: 50%;}div.sk-serial {display: flex;flex-direction: column;align-items: center;background-color: white;}div.sk-item {z-index: 1;}div.sk-parallel {display: flex;align-items: stretch;justify-content: center;background-color: white;}div.sk-parallel-item {display: flex;flex-direction: column;position: relative;background-color: white;}div.sk-parallel-item:first-child::after {align-self: flex-end;width: 50%;}div.sk-parallel-item:last-child::after {align-self: flex-start;width: 50%;}div.sk-parallel-item:only-child::after {width: 0;}div.sk-dashed-wrapped {border: 1px dashed gray;margin: 0.2em;box-sizing: border-box;padding-bottom: 0.1em;background-color: white;position: relative;}div.sk-label label {font-family: monospace;font-weight: bold;background-color: white;display: inline-block;line-height: 1.2em;}div.sk-label-container {position: relative;z-index: 2;text-align: center;}div.sk-container {display: inline-block;position: relative;}</style><div class=\"sk-top-container\"><div class=\"sk-container\"><div class=\"sk-item sk-dashed-wrapped\"><div class=\"sk-label-container\"><div class=\"sk-label sk-toggleable\"><input class=\"sk-toggleable__control sk-hidden--visually\" id=\"dd1fd8c3-305b-4fb7-8f8d-ec20bf2d474d\" type=\"checkbox\" ><label class=\"sk-toggleable__label\" for=\"dd1fd8c3-305b-4fb7-8f8d-ec20bf2d474d\">ColumnTransformer</label><div class=\"sk-toggleable__content\"><pre>ColumnTransformer(transformers=[('num',\n",
       "                                 Pipeline(steps=[('imputer',\n",
       "                                                  SimpleImputer(fill_value=-9999,\n",
       "                                                                strategy='constant'))]),\n",
       "                                 ['Pclass', 'SibSp', 'Parch', 'Fare']),\n",
       "                                ('cat',\n",
       "                                 Pipeline(steps=[('imputer',\n",
       "                                                  SimpleImputer(fill_value='missing',\n",
       "                                                                strategy='constant')),\n",
       "                                                 ('ordinal',\n",
       "                                                  OrdinalEncoder())]),\n",
       "                                 ['Sex', 'Embarked', 'Title']),\n",
       "                                ('age',\n",
       "                                 Pipeline(steps=[('imputer',\n",
       "                                                  GroupImputer(group_cols=['Sex',\n",
       "                                                                           'Pclass',\n",
       "                                                                           'Title'],\n",
       "                                                               target='Age'))]),\n",
       "                                 ['Age', 'Sex', 'Pclass', 'Title'])])</pre></div></div></div><div class=\"sk-parallel\"><div class=\"sk-parallel-item\"><div class=\"sk-item\"><div class=\"sk-label-container\"><div class=\"sk-label sk-toggleable\"><input class=\"sk-toggleable__control sk-hidden--visually\" id=\"e55f0d0d-003e-40b3-a34a-1fa4c7980afd\" type=\"checkbox\" ><label class=\"sk-toggleable__label\" for=\"e55f0d0d-003e-40b3-a34a-1fa4c7980afd\">num</label><div class=\"sk-toggleable__content\"><pre>['Pclass', 'SibSp', 'Parch', 'Fare']</pre></div></div></div><div class=\"sk-serial\"><div class=\"sk-item\"><div class=\"sk-serial\"><div class=\"sk-item\"><div class=\"sk-estimator sk-toggleable\"><input class=\"sk-toggleable__control sk-hidden--visually\" id=\"43e18364-96bd-42e6-a62e-361bb17fb66d\" type=\"checkbox\" ><label class=\"sk-toggleable__label\" for=\"43e18364-96bd-42e6-a62e-361bb17fb66d\">SimpleImputer</label><div class=\"sk-toggleable__content\"><pre>SimpleImputer(fill_value=-9999, strategy='constant')</pre></div></div></div></div></div></div></div></div><div class=\"sk-parallel-item\"><div class=\"sk-item\"><div class=\"sk-label-container\"><div class=\"sk-label sk-toggleable\"><input class=\"sk-toggleable__control sk-hidden--visually\" id=\"d1230508-c4ad-4adc-ba79-2bae63f6c4cd\" type=\"checkbox\" ><label class=\"sk-toggleable__label\" for=\"d1230508-c4ad-4adc-ba79-2bae63f6c4cd\">cat</label><div class=\"sk-toggleable__content\"><pre>['Sex', 'Embarked', 'Title']</pre></div></div></div><div class=\"sk-serial\"><div class=\"sk-item\"><div class=\"sk-serial\"><div class=\"sk-item\"><div class=\"sk-estimator sk-toggleable\"><input class=\"sk-toggleable__control sk-hidden--visually\" id=\"8dcff450-2e6d-4fab-a923-d037b98eab8e\" type=\"checkbox\" ><label class=\"sk-toggleable__label\" for=\"8dcff450-2e6d-4fab-a923-d037b98eab8e\">SimpleImputer</label><div class=\"sk-toggleable__content\"><pre>SimpleImputer(fill_value='missing', strategy='constant')</pre></div></div></div><div class=\"sk-item\"><div class=\"sk-estimator sk-toggleable\"><input class=\"sk-toggleable__control sk-hidden--visually\" id=\"c81f034a-e293-4717-a8be-cdbd4abac2e6\" type=\"checkbox\" ><label class=\"sk-toggleable__label\" for=\"c81f034a-e293-4717-a8be-cdbd4abac2e6\">OrdinalEncoder</label><div class=\"sk-toggleable__content\"><pre>OrdinalEncoder()</pre></div></div></div></div></div></div></div></div><div class=\"sk-parallel-item\"><div class=\"sk-item\"><div class=\"sk-label-container\"><div class=\"sk-label sk-toggleable\"><input class=\"sk-toggleable__control sk-hidden--visually\" id=\"ef7492e8-f975-4a2e-88ab-3484d694857a\" type=\"checkbox\" ><label class=\"sk-toggleable__label\" for=\"ef7492e8-f975-4a2e-88ab-3484d694857a\">age</label><div class=\"sk-toggleable__content\"><pre>['Age', 'Sex', 'Pclass', 'Title']</pre></div></div></div><div class=\"sk-serial\"><div class=\"sk-item\"><div class=\"sk-serial\"><div class=\"sk-item\"><div class=\"sk-estimator sk-toggleable\"><input class=\"sk-toggleable__control sk-hidden--visually\" id=\"60aa6d6f-6e51-4b89-bb49-a680ea31b2e4\" type=\"checkbox\" ><label class=\"sk-toggleable__label\" for=\"60aa6d6f-6e51-4b89-bb49-a680ea31b2e4\">GroupImputer</label><div class=\"sk-toggleable__content\"><pre>GroupImputer(group_cols=['Sex', 'Pclass', 'Title'], target='Age')</pre></div></div></div></div></div></div></div></div></div></div></div></div>"
      ],
      "text/plain": [
       "ColumnTransformer(transformers=[('num',\n",
       "                                 Pipeline(steps=[('imputer',\n",
       "                                                  SimpleImputer(fill_value=-9999,\n",
       "                                                                strategy='constant'))]),\n",
       "                                 ['Pclass', 'SibSp', 'Parch', 'Fare']),\n",
       "                                ('cat',\n",
       "                                 Pipeline(steps=[('imputer',\n",
       "                                                  SimpleImputer(fill_value='missing',\n",
       "                                                                strategy='constant')),\n",
       "                                                 ('ordinal',\n",
       "                                                  OrdinalEncoder())]),\n",
       "                                 ['Sex', 'Embarked', 'Title']),\n",
       "                                ('age',\n",
       "                                 Pipeline(steps=[('imputer',\n",
       "                                                  GroupImputer(group_cols=['Sex',\n",
       "                                                                           'Pclass',\n",
       "                                                                           'Title'],\n",
       "                                                               target='Age'))]),\n",
       "                                 ['Age', 'Sex', 'Pclass', 'Title'])])"
      ]
     },
     "execution_count": 13,
     "metadata": {},
     "output_type": "execute_result"
    }
   ],
   "source": [
    "num_4_treeModels = pipeline.Pipeline(steps=[\n",
    "    ('imputer', impute.SimpleImputer(strategy='constant', fill_value=-9999)),\n",
    "])\n",
    "\n",
    "cat_4_treeModels = pipeline.Pipeline(steps=[\n",
    "    ('imputer', impute.SimpleImputer(strategy='constant', fill_value='missing')),\n",
    "    ('ordinal', preprocessing.OrdinalEncoder()) # handle_unknown='ignore' ONLI IN VERSION 0.24\n",
    "])\n",
    "\n",
    "age_4_treeModels = pipeline.Pipeline(steps=[\n",
    "    ('imputer', GroupImputer(group_cols=['Sex','Pclass','Title'], target='Age', metric='mean')),\n",
    "])\n",
    "\n",
    "tree_prepro = compose.ColumnTransformer(transformers=[\n",
    "    ('num', num_4_treeModels, num_vars),\n",
    "    ('cat', cat_4_treeModels, cat_vars),\n",
    "    ('age', age_4_treeModels, age_var),\n",
    "], remainder='drop') # Drop other vars not specified in num_vars or cat_vars\n",
    "\n",
    "tree_prepro"
   ]
  },
  {
   "cell_type": "markdown",
   "metadata": {
    "ExecuteTime": {
     "end_time": "2020-07-14T20:10:24.143591Z",
     "start_time": "2020-07-14T20:10:23.926372Z"
    }
   },
   "source": [
    "# Models"
   ]
  },
  {
   "cell_type": "code",
   "execution_count": 14,
   "metadata": {
    "ExecuteTime": {
     "end_time": "2020-07-15T16:22:18.511081Z",
     "start_time": "2020-07-15T16:22:18.502981Z"
    }
   },
   "outputs": [],
   "source": [
    "\"\"\"\n",
    "ensemble = [\n",
    "    RandomForestClassifier(n_estimators=100, n_jobs=-1, random_state=42),\n",
    "    make_pipeline(StandardScaler(), RidgeClassifier()),\n",
    "    make_pipeline(StandardScaler(), LinearSVC(random_state=42))\n",
    "]\n",
    "\n",
    "ensemble2 = [\n",
    "    ('RF',    RandomForestClassifier(n_estimators=50, random_state=42)),\n",
    "    (\"Ridge\", make_pipeline(StandardScaler(), RidgeClassifier())),\n",
    "    (\"SVM_rbf\", make_pipeline(StandardScaler(), SVC(kernel='linear')))\n",
    "]\n",
    "\"\"\"\n",
    "\n",
    "mult_classifiers = {\n",
    "  #\"Stacking\":       StackingClassifier(estimators=ensemble2, final_estimator=LogisticRegression()),\n",
    "  \"LogRegr \":        LogisticRegression(),\n",
    "  \"Ridge\":           RidgeClassifier(),\n",
    "  \"SVM_lin\":         SVC(kernel=\"linear\"), # C=0.025\n",
    "  \"SVM_rbf\":         SVC(kernel='rbf'),\n",
    "  \"NuSVC\":           NuSVC(),\n",
    "  \"LinearSVC\":       LinearSVC(),\n",
    "  \"KNN3\":            KNeighborsClassifier(3),\n",
    "  \"KNN5\":            KNeighborsClassifier(5),\n",
    "# \"GP\":              GaussianProcessClassifier(1.0 * RBF(1.0)),\n",
    "# \"GaussianNB\":      GaussianNB()\n",
    "}\n",
    "\n",
    "tree_classifiers = {\n",
    "  \"Decision Tree\": DecisionTreeClassifier(),\n",
    "  \"Extra Trees\":   ExtraTreesClassifier(n_estimators=100),\n",
    "  \"Random Forest\": RandomForestClassifier(n_estimators=100),\n",
    "  \"AdaBoost\":      AdaBoostClassifier(n_estimators=100),\n",
    "  \"Skl GBM\":       GradientBoostingClassifier(n_estimators=100),\n",
    "  \"Skl HistGBM\":   HistGradientBoostingClassifier(),\n",
    "  \"XGBoost\":       XGBClassifier(n_estimators=100),\n",
    "  \"LightGBM\":      LGBMClassifier(n_estimators=100),\n",
    "  \"CatBoost\":      CatBoostClassifier(n_estimators=100),\n",
    "# \"NGBoost\":       NGBClassifier(n_estimators=100),\n",
    "# \"RGF\":           RGFClassifier(n_jobs=-1),\n",
    "# \"FastRGF\":       FastRGFClassifier())\n",
    "}\n",
    "\n",
    "\n",
    "mult_classifiers = {name: pipeline.make_pipeline(mult_prepro, model) for name, model in mult_classifiers.items()}\n",
    "tree_classifiers = {name: pipeline.make_pipeline(tree_prepro, model) for name, model in tree_classifiers.items()}\n",
    "\n",
    "models = {**mult_classifiers, **tree_classifiers} # mult_classifiers | tree_classifiers  IN PYTHON 3.9+"
   ]
  },
  {
   "cell_type": "code",
   "execution_count": 15,
   "metadata": {
    "ExecuteTime": {
     "end_time": "2020-07-15T16:22:19.538570Z",
     "start_time": "2020-07-15T16:22:19.532987Z"
    }
   },
   "outputs": [],
   "source": [
    "mult_regressors = {\n",
    "  \"lasso\":          Lasso(     alpha = 1, normalize = False, max_iter = 5000, tol = 1e-5),\n",
    "  \"ridge\":          Ridge(     alpha = 1, normalize = False, max_iter = 5000, tol = 1e-5),\n",
    "  \"elastic_net\":    ElasticNet(alpha =1, normalize = False, max_iter = 5000, tol = 1e-5, l1_ratio = 0.5),\n",
    "  \"bagging_regr\":   BaggingRegressor(Ridge(alpha=1), n_estimators=100, random_state=42, max_samples=3, max_features=6),\n",
    "  \"bayesian_ridge\": BayesianRidge(n_iter=1000, tol=10e-05),\n",
    "  \"ard_regression\": ARDRegression(),\n",
    "  \"kernel_ridge\":   KernelRidge(alpha=1, kernel='rbf'),\n",
    "  \"linear_svr\":     LinearSVR(C=1),\n",
    "  \"svr\":            SVR(C=1, cache_size=3000.0),\n",
    "  \"nusvr\":          NuSVR(nu=1, C=1),\n",
    "  \"GLM power0\":     TweedieRegressor( power = 0, alpha = 1),\n",
    "  \"GLM power1\":     TweedieRegressor( power = 1, alpha = 1),\n",
    "  \"GLM power2\":     TweedieRegressor( power = 2, alpha = 1)\n",
    "}"
   ]
  },
  {
   "cell_type": "markdown",
   "metadata": {},
   "source": [
    "# Do the experiment"
   ]
  },
  {
   "cell_type": "code",
   "execution_count": 16,
   "metadata": {
    "ExecuteTime": {
     "end_time": "2020-07-15T12:58:57.748218Z",
     "start_time": "2020-07-15T12:49:10.965920Z"
    }
   },
   "outputs": [
    {
     "data": {
      "text/html": [
       "<style  type=\"text/css\" >\n",
       "#T_e397d_row0_col1{\n",
       "            width:  10em;\n",
       "             height:  80%;\n",
       "            background:  linear-gradient(90deg,#5fba7d 83.4%, transparent 83.4%);\n",
       "        }#T_e397d_row0_col2,#T_e397d_row3_col2{\n",
       "            width:  10em;\n",
       "             height:  80%;\n",
       "            background:  linear-gradient(90deg,#5fba7d 81.3%, transparent 81.3%);\n",
       "        }#T_e397d_row1_col1,#T_e397d_row2_col1{\n",
       "            width:  10em;\n",
       "             height:  80%;\n",
       "            background:  linear-gradient(90deg,#5fba7d 83.1%, transparent 83.1%);\n",
       "        }#T_e397d_row1_col2,#T_e397d_row5_col2{\n",
       "            width:  10em;\n",
       "             height:  80%;\n",
       "            background:  linear-gradient(90deg,#5fba7d 81.2%, transparent 81.2%);\n",
       "        }#T_e397d_row2_col2{\n",
       "            width:  10em;\n",
       "             height:  80%;\n",
       "            background:  linear-gradient(90deg,#5fba7d 81.5%, transparent 81.5%);\n",
       "        }#T_e397d_row3_col1{\n",
       "            width:  10em;\n",
       "             height:  80%;\n",
       "            background:  linear-gradient(90deg,#5fba7d 82.9%, transparent 82.9%);\n",
       "        }#T_e397d_row4_col1{\n",
       "            width:  10em;\n",
       "             height:  80%;\n",
       "            background:  linear-gradient(90deg,#5fba7d 82.8%, transparent 82.8%);\n",
       "        }#T_e397d_row4_col2,#T_e397d_row8_col2{\n",
       "            width:  10em;\n",
       "             height:  80%;\n",
       "            background:  linear-gradient(90deg,#5fba7d 80.6%, transparent 80.6%);\n",
       "        }#T_e397d_row5_col1,#T_e397d_row6_col1{\n",
       "            width:  10em;\n",
       "             height:  80%;\n",
       "            background:  linear-gradient(90deg,#5fba7d 82.7%, transparent 82.7%);\n",
       "        }#T_e397d_row6_col2,#T_e397d_row12_col1{\n",
       "            width:  10em;\n",
       "             height:  80%;\n",
       "            background:  linear-gradient(90deg,#5fba7d 81.0%, transparent 81.0%);\n",
       "        }#T_e397d_row7_col1{\n",
       "            width:  10em;\n",
       "             height:  80%;\n",
       "            background:  linear-gradient(90deg,#5fba7d 82.5%, transparent 82.5%);\n",
       "        }#T_e397d_row7_col2,#T_e397d_row13_col1{\n",
       "            width:  10em;\n",
       "             height:  80%;\n",
       "            background:  linear-gradient(90deg,#5fba7d 80.8%, transparent 80.8%);\n",
       "        }#T_e397d_row8_col1,#T_e397d_row9_col1{\n",
       "            width:  10em;\n",
       "             height:  80%;\n",
       "            background:  linear-gradient(90deg,#5fba7d 82.3%, transparent 82.3%);\n",
       "        }#T_e397d_row9_col2{\n",
       "            width:  10em;\n",
       "             height:  80%;\n",
       "            background:  linear-gradient(90deg,#5fba7d 79.8%, transparent 79.8%);\n",
       "        }#T_e397d_row10_col1{\n",
       "            width:  10em;\n",
       "             height:  80%;\n",
       "            background:  linear-gradient(90deg,#5fba7d 81.9%, transparent 81.9%);\n",
       "        }#T_e397d_row10_col2,#T_e397d_row15_col1{\n",
       "            width:  10em;\n",
       "             height:  80%;\n",
       "            background:  linear-gradient(90deg,#5fba7d 80.4%, transparent 80.4%);\n",
       "        }#T_e397d_row11_col1{\n",
       "            width:  10em;\n",
       "             height:  80%;\n",
       "            background:  linear-gradient(90deg,#5fba7d 81.7%, transparent 81.7%);\n",
       "        }#T_e397d_row11_col2{\n",
       "            width:  10em;\n",
       "             height:  80%;\n",
       "            background:  linear-gradient(90deg,#5fba7d 80.7%, transparent 80.7%);\n",
       "        }#T_e397d_row12_col2,#T_e397d_row13_col2{\n",
       "            width:  10em;\n",
       "             height:  80%;\n",
       "            background:  linear-gradient(90deg,#5fba7d 79.5%, transparent 79.5%);\n",
       "        }#T_e397d_row14_col1{\n",
       "            width:  10em;\n",
       "             height:  80%;\n",
       "            background:  linear-gradient(90deg,#5fba7d 80.5%, transparent 80.5%);\n",
       "        }#T_e397d_row14_col2{\n",
       "            width:  10em;\n",
       "             height:  80%;\n",
       "            background:  linear-gradient(90deg,#5fba7d 79.1%, transparent 79.1%);\n",
       "        }#T_e397d_row15_col2{\n",
       "            width:  10em;\n",
       "             height:  80%;\n",
       "            background:  linear-gradient(90deg,#5fba7d 78.7%, transparent 78.7%);\n",
       "        }#T_e397d_row16_col1{\n",
       "            width:  10em;\n",
       "             height:  80%;\n",
       "            background:  linear-gradient(90deg,#5fba7d 78.9%, transparent 78.9%);\n",
       "        }#T_e397d_row16_col2{\n",
       "            width:  10em;\n",
       "             height:  80%;\n",
       "            background:  linear-gradient(90deg,#5fba7d 77.6%, transparent 77.6%);\n",
       "        }</style><table id=\"T_e397d_\" ><thead>    <tr>        <th class=\"blank level0\" ></th>        <th class=\"col_heading level0 col0\" >Model</th>        <th class=\"col_heading level0 col1\" >Accuracy</th>        <th class=\"col_heading level0 col2\" >Bal Acc.</th>        <th class=\"col_heading level0 col3\" >Time</th>    </tr></thead><tbody>\n",
       "                <tr>\n",
       "                        <th id=\"T_e397d_level0_row0\" class=\"row_heading level0 row0\" >1</th>\n",
       "                        <td id=\"T_e397d_row0_col0\" class=\"data row0 col0\" >Skl GBM</td>\n",
       "                        <td id=\"T_e397d_row0_col1\" class=\"data row0 col1\" >83.389450</td>\n",
       "                        <td id=\"T_e397d_row0_col2\" class=\"data row0 col2\" >81.284153</td>\n",
       "                        <td id=\"T_e397d_row0_col3\" class=\"data row0 col3\" >1.716500</td>\n",
       "            </tr>\n",
       "            <tr>\n",
       "                        <th id=\"T_e397d_level0_row1\" class=\"row_heading level0 row1\" >2</th>\n",
       "                        <td id=\"T_e397d_row1_col0\" class=\"data row1 col0\" >NuSVC</td>\n",
       "                        <td id=\"T_e397d_row1_col1\" class=\"data row1 col1\" >83.052750</td>\n",
       "                        <td id=\"T_e397d_row1_col2\" class=\"data row1 col2\" >81.176301</td>\n",
       "                        <td id=\"T_e397d_row1_col3\" class=\"data row1 col3\" >1.231742</td>\n",
       "            </tr>\n",
       "            <tr>\n",
       "                        <th id=\"T_e397d_level0_row2\" class=\"row_heading level0 row2\" >3</th>\n",
       "                        <td id=\"T_e397d_row2_col0\" class=\"data row2 col0\" >LinearSVC</td>\n",
       "                        <td id=\"T_e397d_row2_col1\" class=\"data row2 col1\" >83.052750</td>\n",
       "                        <td id=\"T_e397d_row2_col2\" class=\"data row2 col2\" >81.451922</td>\n",
       "                        <td id=\"T_e397d_row2_col3\" class=\"data row2 col3\" >1.341946</td>\n",
       "            </tr>\n",
       "            <tr>\n",
       "                        <th id=\"T_e397d_level0_row3\" class=\"row_heading level0 row3\" >4</th>\n",
       "                        <td id=\"T_e397d_row3_col0\" class=\"data row3 col0\" >Ridge</td>\n",
       "                        <td id=\"T_e397d_row3_col1\" class=\"data row3 col1\" >82.940516</td>\n",
       "                        <td id=\"T_e397d_row3_col2\" class=\"data row3 col2\" >81.305723</td>\n",
       "                        <td id=\"T_e397d_row3_col3\" class=\"data row3 col3\" >1.100482</td>\n",
       "            </tr>\n",
       "            <tr>\n",
       "                        <th id=\"T_e397d_level0_row4\" class=\"row_heading level0 row4\" >5</th>\n",
       "                        <td id=\"T_e397d_row4_col0\" class=\"data row4 col0\" >SVM_rbf</td>\n",
       "                        <td id=\"T_e397d_row4_col1\" class=\"data row4 col1\" >82.828283</td>\n",
       "                        <td id=\"T_e397d_row4_col2\" class=\"data row4 col2\" >80.608283</td>\n",
       "                        <td id=\"T_e397d_row4_col3\" class=\"data row4 col3\" >1.195999</td>\n",
       "            </tr>\n",
       "            <tr>\n",
       "                        <th id=\"T_e397d_level0_row5\" class=\"row_heading level0 row5\" >6</th>\n",
       "                        <td id=\"T_e397d_row5_col0\" class=\"data row5 col0\" >LogRegr </td>\n",
       "                        <td id=\"T_e397d_row5_col1\" class=\"data row5 col1\" >82.716049</td>\n",
       "                        <td id=\"T_e397d_row5_col2\" class=\"data row5 col2\" >81.233822</td>\n",
       "                        <td id=\"T_e397d_row5_col3\" class=\"data row5 col3\" >1.209718</td>\n",
       "            </tr>\n",
       "            <tr>\n",
       "                        <th id=\"T_e397d_level0_row6\" class=\"row_heading level0 row6\" >7</th>\n",
       "                        <td id=\"T_e397d_row6_col0\" class=\"data row6 col0\" >SVM_lin</td>\n",
       "                        <td id=\"T_e397d_row6_col1\" class=\"data row6 col1\" >82.716049</td>\n",
       "                        <td id=\"T_e397d_row6_col2\" class=\"data row6 col2\" >81.013326</td>\n",
       "                        <td id=\"T_e397d_row6_col3\" class=\"data row6 col3\" >1.207395</td>\n",
       "            </tr>\n",
       "            <tr>\n",
       "                        <th id=\"T_e397d_level0_row7\" class=\"row_heading level0 row7\" >8</th>\n",
       "                        <td id=\"T_e397d_row7_col0\" class=\"data row7 col0\" >LightGBM</td>\n",
       "                        <td id=\"T_e397d_row7_col1\" class=\"data row7 col1\" >82.491582</td>\n",
       "                        <td id=\"T_e397d_row7_col2\" class=\"data row7 col2\" >80.776052</td>\n",
       "                        <td id=\"T_e397d_row7_col3\" class=\"data row7 col3\" >1.542664</td>\n",
       "            </tr>\n",
       "            <tr>\n",
       "                        <th id=\"T_e397d_level0_row8\" class=\"row_heading level0 row8\" >9</th>\n",
       "                        <td id=\"T_e397d_row8_col0\" class=\"data row8 col0\" >Skl HistGBM</td>\n",
       "                        <td id=\"T_e397d_row8_col1\" class=\"data row8 col1\" >82.267116</td>\n",
       "                        <td id=\"T_e397d_row8_col2\" class=\"data row8 col2\" >80.593903</td>\n",
       "                        <td id=\"T_e397d_row8_col3\" class=\"data row8 col3\" >2.966230</td>\n",
       "            </tr>\n",
       "            <tr>\n",
       "                        <th id=\"T_e397d_level0_row9\" class=\"row_heading level0 row9\" >10</th>\n",
       "                        <td id=\"T_e397d_row9_col0\" class=\"data row9 col0\" >CatBoost</td>\n",
       "                        <td id=\"T_e397d_row9_col1\" class=\"data row9 col1\" >82.267116</td>\n",
       "                        <td id=\"T_e397d_row9_col2\" class=\"data row9 col2\" >79.822165</td>\n",
       "                        <td id=\"T_e397d_row9_col3\" class=\"data row9 col3\" >2.048267</td>\n",
       "            </tr>\n",
       "            <tr>\n",
       "                        <th id=\"T_e397d_level0_row10\" class=\"row_heading level0 row10\" >11</th>\n",
       "                        <td id=\"T_e397d_row10_col0\" class=\"data row10 col0\" >XGBoost</td>\n",
       "                        <td id=\"T_e397d_row10_col1\" class=\"data row10 col1\" >81.930415</td>\n",
       "                        <td id=\"T_e397d_row10_col2\" class=\"data row10 col2\" >80.375803</td>\n",
       "                        <td id=\"T_e397d_row10_col3\" class=\"data row10 col3\" >1.524709</td>\n",
       "            </tr>\n",
       "            <tr>\n",
       "                        <th id=\"T_e397d_level0_row11\" class=\"row_heading level0 row11\" >12</th>\n",
       "                        <td id=\"T_e397d_row11_col0\" class=\"data row11 col0\" >AdaBoost</td>\n",
       "                        <td id=\"T_e397d_row11_col1\" class=\"data row11 col1\" >81.705948</td>\n",
       "                        <td id=\"T_e397d_row11_col2\" class=\"data row11 col2\" >80.689771</td>\n",
       "                        <td id=\"T_e397d_row11_col3\" class=\"data row11 col3\" >2.120045</td>\n",
       "            </tr>\n",
       "            <tr>\n",
       "                        <th id=\"T_e397d_level0_row12\" class=\"row_heading level0 row12\" >13</th>\n",
       "                        <td id=\"T_e397d_row12_col0\" class=\"data row12 col0\" >KNN3</td>\n",
       "                        <td id=\"T_e397d_row12_col1\" class=\"data row12 col1\" >81.032548</td>\n",
       "                        <td id=\"T_e397d_row12_col2\" class=\"data row12 col2\" >79.536957</td>\n",
       "                        <td id=\"T_e397d_row12_col3\" class=\"data row12 col3\" >1.124282</td>\n",
       "            </tr>\n",
       "            <tr>\n",
       "                        <th id=\"T_e397d_level0_row13\" class=\"row_heading level0 row13\" >14</th>\n",
       "                        <td id=\"T_e397d_row13_col0\" class=\"data row13 col0\" >Random Forest</td>\n",
       "                        <td id=\"T_e397d_row13_col1\" class=\"data row13 col1\" >80.808081</td>\n",
       "                        <td id=\"T_e397d_row13_col2\" class=\"data row13 col2\" >79.465056</td>\n",
       "                        <td id=\"T_e397d_row13_col3\" class=\"data row13 col3\" >2.146434</td>\n",
       "            </tr>\n",
       "            <tr>\n",
       "                        <th id=\"T_e397d_level0_row14\" class=\"row_heading level0 row14\" >15</th>\n",
       "                        <td id=\"T_e397d_row14_col0\" class=\"data row14 col0\" >Extra Trees</td>\n",
       "                        <td id=\"T_e397d_row14_col1\" class=\"data row14 col1\" >80.471380</td>\n",
       "                        <td id=\"T_e397d_row14_col2\" class=\"data row14 col2\" >79.081584</td>\n",
       "                        <td id=\"T_e397d_row14_col3\" class=\"data row14 col3\" >1.921808</td>\n",
       "            </tr>\n",
       "            <tr>\n",
       "                        <th id=\"T_e397d_level0_row15\" class=\"row_heading level0 row15\" >16</th>\n",
       "                        <td id=\"T_e397d_row15_col0\" class=\"data row15 col0\" >KNN5</td>\n",
       "                        <td id=\"T_e397d_row15_col1\" class=\"data row15 col1\" >80.359147</td>\n",
       "                        <td id=\"T_e397d_row15_col2\" class=\"data row15 col2\" >78.659764</td>\n",
       "                        <td id=\"T_e397d_row15_col3\" class=\"data row15 col3\" >1.111730</td>\n",
       "            </tr>\n",
       "            <tr>\n",
       "                        <th id=\"T_e397d_level0_row16\" class=\"row_heading level0 row16\" >17</th>\n",
       "                        <td id=\"T_e397d_row16_col0\" class=\"data row16 col0\" >Decision Tree</td>\n",
       "                        <td id=\"T_e397d_row16_col1\" class=\"data row16 col1\" >78.900112</td>\n",
       "                        <td id=\"T_e397d_row16_col2\" class=\"data row16 col2\" >77.641166</td>\n",
       "                        <td id=\"T_e397d_row16_col3\" class=\"data row16 col3\" >1.072783</td>\n",
       "            </tr>\n",
       "    </tbody></table>"
      ],
      "text/plain": [
       "<pandas.io.formats.style.Styler at 0x7ff68b1a6790>"
      ]
     },
     "metadata": {},
     "output_type": "display_data"
    }
   ],
   "source": [
    "preds = {}\n",
    "skf = model_selection.StratifiedKFold(n_splits=10, shuffle=True, random_state=0)\n",
    "\n",
    "results = pd.DataFrame({'Model': [], 'Accuracy': [], 'Bal Acc.': [], 'Time': []})\n",
    "\n",
    "for name, model in models.items():    \n",
    "        \n",
    "    start_time = time.time()\n",
    "    pred = model_selection.cross_val_predict(model, x, y, cv=skf)\n",
    "    total_time = time.time() - start_time\n",
    "    \n",
    "    preds[name] = pred\n",
    "    results = results.append({\"Model\":    name,\n",
    "                              \"Accuracy\": metrics.accuracy_score(y, pred)*100,\n",
    "                              \"Bal Acc.\": metrics.balanced_accuracy_score(y, pred)*100,\n",
    "                              \"Time\":     total_time},\n",
    "                              ignore_index=True)\n",
    "    \n",
    "    results_ord = results.sort_values(by=['Accuracy'], ascending=False, ignore_index=True)\n",
    "    results_ord.index += 1 \n",
    "\n",
    "    clear_output(wait=True)\n",
    "    display(results_ord.style.bar(subset=['Accuracy', 'Bal Acc.'], vmin=0, vmax=100, color='#5fba7d'))"
   ]
  },
  {
   "cell_type": "code",
   "execution_count": 19,
   "metadata": {
    "ExecuteTime": {
     "end_time": "2020-07-15T15:51:28.962939Z",
     "start_time": "2020-07-15T15:51:28.675389Z"
    }
   },
   "outputs": [
    {
     "data": {
      "image/png": "[encoded data removed]",
      "text/plain": [
       "<Figure size 432x288 with 2 Axes>"
      ]
     },
     "metadata": {},
     "output_type": "display_data"
    }
   ],
   "source": [
    "skplt.metrics.plot_confusion_matrix(y, preds[\"LightGBM\"], normalize=False);"
   ]
  },
  {
   "cell_type": "code",
   "execution_count": 20,
   "metadata": {},
   "outputs": [
    {
     "data": {
      "image/png": "[encoded data removed]",
      "text/plain": [
       "<Figure size 432x288 with 2 Axes>"
      ]
     },
     "metadata": {},
     "output_type": "display_data"
    }
   ],
   "source": [
    "skplt.metrics.plot_confusion_matrix(y, preds[\"LightGBM\"], normalize=True);"
   ]
  },
  {
   "cell_type": "code",
   "execution_count": 21,
   "metadata": {
    "ExecuteTime": {
     "end_time": "2020-07-15T15:52:43.980544Z",
     "start_time": "2020-07-15T15:52:43.962552Z"
    }
   },
   "outputs": [
    {
     "data": {
      "text/html": [
       "<div>\n",
       "<style scoped>\n",
       "    .dataframe tbody tr th:only-of-type {\n",
       "        vertical-align: middle;\n",
       "    }\n",
       "\n",
       "    .dataframe tbody tr th {\n",
       "        vertical-align: top;\n",
       "    }\n",
       "\n",
       "    .dataframe thead th {\n",
       "        text-align: right;\n",
       "    }\n",
       "</style>\n",
       "<table border=\"1\" class=\"dataframe\">\n",
       "  <thead>\n",
       "    <tr style=\"text-align: right;\">\n",
       "      <th></th>\n",
       "      <th>LogRegr</th>\n",
       "      <th>Ridge</th>\n",
       "      <th>SVM_lin</th>\n",
       "      <th>SVM_rbf</th>\n",
       "      <th>NuSVC</th>\n",
       "      <th>LinearSVC</th>\n",
       "      <th>KNN3</th>\n",
       "      <th>KNN5</th>\n",
       "      <th>Decision Tree</th>\n",
       "      <th>Extra Trees</th>\n",
       "      <th>Random Forest</th>\n",
       "      <th>AdaBoost</th>\n",
       "      <th>Skl GBM</th>\n",
       "      <th>Skl HistGBM</th>\n",
       "      <th>XGBoost</th>\n",
       "      <th>LightGBM</th>\n",
       "      <th>CatBoost</th>\n",
       "      <th>Target</th>\n",
       "    </tr>\n",
       "    <tr>\n",
       "      <th>PassengerId</th>\n",
       "      <th></th>\n",
       "      <th></th>\n",
       "      <th></th>\n",
       "      <th></th>\n",
       "      <th></th>\n",
       "      <th></th>\n",
       "      <th></th>\n",
       "      <th></th>\n",
       "      <th></th>\n",
       "      <th></th>\n",
       "      <th></th>\n",
       "      <th></th>\n",
       "      <th></th>\n",
       "      <th></th>\n",
       "      <th></th>\n",
       "      <th></th>\n",
       "      <th></th>\n",
       "      <th></th>\n",
       "    </tr>\n",
       "  </thead>\n",
       "  <tbody>\n",
       "    <tr>\n",
       "      <th>1</th>\n",
       "      <td>0</td>\n",
       "      <td>0</td>\n",
       "      <td>0</td>\n",
       "      <td>0</td>\n",
       "      <td>0</td>\n",
       "      <td>0</td>\n",
       "      <td>1</td>\n",
       "      <td>0</td>\n",
       "      <td>0</td>\n",
       "      <td>0</td>\n",
       "      <td>0</td>\n",
       "      <td>0</td>\n",
       "      <td>0</td>\n",
       "      <td>0</td>\n",
       "      <td>0</td>\n",
       "      <td>0</td>\n",
       "      <td>0</td>\n",
       "      <td>0</td>\n",
       "    </tr>\n",
       "    <tr>\n",
       "      <th>2</th>\n",
       "      <td>1</td>\n",
       "      <td>1</td>\n",
       "      <td>1</td>\n",
       "      <td>1</td>\n",
       "      <td>1</td>\n",
       "      <td>1</td>\n",
       "      <td>1</td>\n",
       "      <td>1</td>\n",
       "      <td>1</td>\n",
       "      <td>1</td>\n",
       "      <td>1</td>\n",
       "      <td>1</td>\n",
       "      <td>1</td>\n",
       "      <td>1</td>\n",
       "      <td>1</td>\n",
       "      <td>1</td>\n",
       "      <td>1</td>\n",
       "      <td>1</td>\n",
       "    </tr>\n",
       "    <tr>\n",
       "      <th>3</th>\n",
       "      <td>1</td>\n",
       "      <td>1</td>\n",
       "      <td>1</td>\n",
       "      <td>0</td>\n",
       "      <td>1</td>\n",
       "      <td>1</td>\n",
       "      <td>1</td>\n",
       "      <td>0</td>\n",
       "      <td>1</td>\n",
       "      <td>1</td>\n",
       "      <td>1</td>\n",
       "      <td>1</td>\n",
       "      <td>0</td>\n",
       "      <td>0</td>\n",
       "      <td>0</td>\n",
       "      <td>0</td>\n",
       "      <td>0</td>\n",
       "      <td>1</td>\n",
       "    </tr>\n",
       "    <tr>\n",
       "      <th>4</th>\n",
       "      <td>1</td>\n",
       "      <td>1</td>\n",
       "      <td>1</td>\n",
       "      <td>1</td>\n",
       "      <td>1</td>\n",
       "      <td>1</td>\n",
       "      <td>1</td>\n",
       "      <td>1</td>\n",
       "      <td>1</td>\n",
       "      <td>1</td>\n",
       "      <td>1</td>\n",
       "      <td>1</td>\n",
       "      <td>1</td>\n",
       "      <td>1</td>\n",
       "      <td>1</td>\n",
       "      <td>1</td>\n",
       "      <td>1</td>\n",
       "      <td>1</td>\n",
       "    </tr>\n",
       "    <tr>\n",
       "      <th>5</th>\n",
       "      <td>0</td>\n",
       "      <td>0</td>\n",
       "      <td>0</td>\n",
       "      <td>0</td>\n",
       "      <td>0</td>\n",
       "      <td>0</td>\n",
       "      <td>0</td>\n",
       "      <td>0</td>\n",
       "      <td>0</td>\n",
       "      <td>0</td>\n",
       "      <td>0</td>\n",
       "      <td>0</td>\n",
       "      <td>0</td>\n",
       "      <td>0</td>\n",
       "      <td>0</td>\n",
       "      <td>0</td>\n",
       "      <td>0</td>\n",
       "      <td>0</td>\n",
       "    </tr>\n",
       "  </tbody>\n",
       "</table>\n",
       "</div>"
      ],
      "text/plain": [
       "             LogRegr   Ridge  SVM_lin  SVM_rbf  NuSVC  LinearSVC  KNN3  KNN5  \\\n",
       "PassengerId                                                                    \n",
       "1                   0      0        0        0      0          0     1     0   \n",
       "2                   1      1        1        1      1          1     1     1   \n",
       "3                   1      1        1        0      1          1     1     0   \n",
       "4                   1      1        1        1      1          1     1     1   \n",
       "5                   0      0        0        0      0          0     0     0   \n",
       "\n",
       "             Decision Tree  Extra Trees  Random Forest  AdaBoost  Skl GBM  \\\n",
       "PassengerId                                                                 \n",
       "1                        0            0              0         0        0   \n",
       "2                        1            1              1         1        1   \n",
       "3                        1            1              1         1        0   \n",
       "4                        1            1              1         1        1   \n",
       "5                        0            0              0         0        0   \n",
       "\n",
       "             Skl HistGBM  XGBoost  LightGBM  CatBoost  Target  \n",
       "PassengerId                                                    \n",
       "1                      0        0         0         0       0  \n",
       "2                      1        1         1         1       1  \n",
       "3                      0        0         0         0       1  \n",
       "4                      1        1         1         1       1  \n",
       "5                      0        0         0         0       0  "
      ]
     },
     "execution_count": 21,
     "metadata": {},
     "output_type": "execute_result"
    }
   ],
   "source": [
    "preds_df = pd.DataFrame(preds, index=df.index)\n",
    "preds_df[\"Target\"] = y\n",
    "preds_df.head()"
   ]
  },
  {
   "cell_type": "code",
   "execution_count": 22,
   "metadata": {},
   "outputs": [
    {
     "data": {
      "text/plain": [
       "<AxesSubplot:>"
      ]
     },
     "execution_count": 22,
     "metadata": {},
     "output_type": "execute_result"
    },
    {
     "data": {
      "image/png": "[encoded data removed]",
      "text/plain": [
       "<Figure size 432x288 with 1 Axes>"
      ]
     },
     "metadata": {},
     "output_type": "display_data"
    }
   ],
   "source": [
    "preds_df.corr().Target.sort_values().plot.barh()"
   ]
  },
  {
   "cell_type": "code",
   "execution_count": 23,
   "metadata": {},
   "outputs": [
    {
     "data": {
      "image/png": "[encoded data removed]",
      "text/plain": [
       "<Figure size 720x720 with 2 Axes>"
      ]
     },
     "metadata": {},
     "output_type": "display_data"
    }
   ],
   "source": [
    "g= sb.clustermap(preds_df.corr(), cmap=\"YlGnBu\", vmin=0, vmax=1)\n",
    "g.ax_row_dendrogram.remove()\n",
    "g.ax_col_dendrogram.remove()"
   ]
  },
  {
   "cell_type": "code",
   "execution_count": 24,
   "metadata": {},
   "outputs": [
    {
     "name": "stdout",
     "output_type": "stream",
     "text": [
      "(891, 4)\n"
     ]
    },
    {
     "data": {
      "text/html": [
       "<style>div.sk-top-container {color: black;background-color: white;}div.sk-toggleable {background-color: white;}label.sk-toggleable__label {cursor: pointer;display: block;width: 100%;margin-bottom: 0;padding: 0.2em 0.3em;box-sizing: border-box;text-align: center;}div.sk-toggleable__content {max-height: 0;max-width: 0;overflow: hidden;text-align: left;background-color: #f0f8ff;}div.sk-toggleable__content pre {margin: 0.2em;color: black;border-radius: 0.25em;background-color: #f0f8ff;}input.sk-toggleable__control:checked~div.sk-toggleable__content {max-height: 200px;max-width: 100%;overflow: auto;}div.sk-estimator input.sk-toggleable__control:checked~label.sk-toggleable__label {background-color: #d4ebff;}div.sk-label input.sk-toggleable__control:checked~label.sk-toggleable__label {background-color: #d4ebff;}input.sk-hidden--visually {border: 0;clip: rect(1px 1px 1px 1px);clip: rect(1px, 1px, 1px, 1px);height: 1px;margin: -1px;overflow: hidden;padding: 0;position: absolute;width: 1px;}div.sk-estimator {font-family: monospace;background-color: #f0f8ff;margin: 0.25em 0.25em;border: 1px dotted black;border-radius: 0.25em;box-sizing: border-box;}div.sk-estimator:hover {background-color: #d4ebff;}div.sk-parallel-item::after {content: \"\";width: 100%;border-bottom: 1px solid gray;flex-grow: 1;}div.sk-label:hover label.sk-toggleable__label {background-color: #d4ebff;}div.sk-serial::before {content: \"\";position: absolute;border-left: 1px solid gray;box-sizing: border-box;top: 2em;bottom: 0;left: 50%;}div.sk-serial {display: flex;flex-direction: column;align-items: center;background-color: white;}div.sk-item {z-index: 1;}div.sk-parallel {display: flex;align-items: stretch;justify-content: center;background-color: white;}div.sk-parallel-item {display: flex;flex-direction: column;position: relative;background-color: white;}div.sk-parallel-item:first-child::after {align-self: flex-end;width: 50%;}div.sk-parallel-item:last-child::after {align-self: flex-start;width: 50%;}div.sk-parallel-item:only-child::after {width: 0;}div.sk-dashed-wrapped {border: 1px dashed gray;margin: 0.2em;box-sizing: border-box;padding-bottom: 0.1em;background-color: white;position: relative;}div.sk-label label {font-family: monospace;font-weight: bold;background-color: white;display: inline-block;line-height: 1.2em;}div.sk-label-container {position: relative;z-index: 2;text-align: center;}div.sk-container {display: inline-block;position: relative;}</style><div class=\"sk-top-container\"><div class=\"sk-container\"><div class=\"sk-item sk-dashed-wrapped\"><div class=\"sk-label-container\"><div class=\"sk-label sk-toggleable\"><input class=\"sk-toggleable__control sk-hidden--visually\" id=\"efc722dc-01c2-4e76-9c20-6145a1cc4218\" type=\"checkbox\" ><label class=\"sk-toggleable__label\" for=\"efc722dc-01c2-4e76-9c20-6145a1cc4218\">Pipeline</label><div class=\"sk-toggleable__content\"><pre>Pipeline(steps=[('columntransformer',\n",
       "                 ColumnTransformer(transformers=[('num',\n",
       "                                                  Pipeline(steps=[('imputer',\n",
       "                                                                   SimpleImputer(add_indicator=True)),\n",
       "                                                                  ('scaler',\n",
       "                                                                   StandardScaler())]),\n",
       "                                                  ['Pclass', 'SibSp', 'Parch',\n",
       "                                                   'Fare']),\n",
       "                                                 ('cat',\n",
       "                                                  Pipeline(steps=[('imputer',\n",
       "                                                                   SimpleImputer(fill_value='missing',\n",
       "                                                                                 strategy='constant')),\n",
       "                                                                  ('onehot',\n",
       "                                                                   OneHotEncoder(handle_unknown='ignore'))]),\n",
       "                                                  ['Sex', 'Embarked', 'Title']),\n",
       "                                                 ('age',\n",
       "                                                  Pipeline(steps=[('imputer',\n",
       "                                                                   GroupImputer(group_cols=['Sex',\n",
       "                                                                                            'Pclass',\n",
       "                                                                                            'Title'],\n",
       "                                                                                target='Age')),\n",
       "                                                                  ('scaler',\n",
       "                                                                   StandardScaler())]),\n",
       "                                                  ['Age', 'Sex', 'Pclass',\n",
       "                                                   'Title'])])),\n",
       "                ('svc', SVC())])</pre></div></div></div><div class=\"sk-serial\"><div class=\"sk-item sk-dashed-wrapped\"><div class=\"sk-label-container\"><div class=\"sk-label sk-toggleable\"><input class=\"sk-toggleable__control sk-hidden--visually\" id=\"5fb44be0-91b5-49a9-b105-5649b6ad7450\" type=\"checkbox\" ><label class=\"sk-toggleable__label\" for=\"5fb44be0-91b5-49a9-b105-5649b6ad7450\">columntransformer: ColumnTransformer</label><div class=\"sk-toggleable__content\"><pre>ColumnTransformer(transformers=[('num',\n",
       "                                 Pipeline(steps=[('imputer',\n",
       "                                                  SimpleImputer(add_indicator=True)),\n",
       "                                                 ('scaler', StandardScaler())]),\n",
       "                                 ['Pclass', 'SibSp', 'Parch', 'Fare']),\n",
       "                                ('cat',\n",
       "                                 Pipeline(steps=[('imputer',\n",
       "                                                  SimpleImputer(fill_value='missing',\n",
       "                                                                strategy='constant')),\n",
       "                                                 ('onehot',\n",
       "                                                  OneHotEncoder(handle_unknown='ignore'))]),\n",
       "                                 ['Sex', 'Embarked', 'Title']),\n",
       "                                ('age',\n",
       "                                 Pipeline(steps=[('imputer',\n",
       "                                                  GroupImputer(group_cols=['Sex',\n",
       "                                                                           'Pclass',\n",
       "                                                                           'Title'],\n",
       "                                                               target='Age')),\n",
       "                                                 ('scaler', StandardScaler())]),\n",
       "                                 ['Age', 'Sex', 'Pclass', 'Title'])])</pre></div></div></div><div class=\"sk-parallel\"><div class=\"sk-parallel-item\"><div class=\"sk-item\"><div class=\"sk-label-container\"><div class=\"sk-label sk-toggleable\"><input class=\"sk-toggleable__control sk-hidden--visually\" id=\"3b7038af-0f96-4849-a4d5-e5dde2ae5b7d\" type=\"checkbox\" ><label class=\"sk-toggleable__label\" for=\"3b7038af-0f96-4849-a4d5-e5dde2ae5b7d\">num</label><div class=\"sk-toggleable__content\"><pre>['Pclass', 'SibSp', 'Parch', 'Fare']</pre></div></div></div><div class=\"sk-serial\"><div class=\"sk-item\"><div class=\"sk-serial\"><div class=\"sk-item\"><div class=\"sk-estimator sk-toggleable\"><input class=\"sk-toggleable__control sk-hidden--visually\" id=\"342369ba-40bf-46e9-8a20-d36abfa9dea3\" type=\"checkbox\" ><label class=\"sk-toggleable__label\" for=\"342369ba-40bf-46e9-8a20-d36abfa9dea3\">SimpleImputer</label><div class=\"sk-toggleable__content\"><pre>SimpleImputer(add_indicator=True)</pre></div></div></div><div class=\"sk-item\"><div class=\"sk-estimator sk-toggleable\"><input class=\"sk-toggleable__control sk-hidden--visually\" id=\"a0875442-6327-4892-856b-5234b15a1129\" type=\"checkbox\" ><label class=\"sk-toggleable__label\" for=\"a0875442-6327-4892-856b-5234b15a1129\">StandardScaler</label><div class=\"sk-toggleable__content\"><pre>StandardScaler()</pre></div></div></div></div></div></div></div></div><div class=\"sk-parallel-item\"><div class=\"sk-item\"><div class=\"sk-label-container\"><div class=\"sk-label sk-toggleable\"><input class=\"sk-toggleable__control sk-hidden--visually\" id=\"0a961134-cee1-40a2-85f7-a82dc8708bf5\" type=\"checkbox\" ><label class=\"sk-toggleable__label\" for=\"0a961134-cee1-40a2-85f7-a82dc8708bf5\">cat</label><div class=\"sk-toggleable__content\"><pre>['Sex', 'Embarked', 'Title']</pre></div></div></div><div class=\"sk-serial\"><div class=\"sk-item\"><div class=\"sk-serial\"><div class=\"sk-item\"><div class=\"sk-estimator sk-toggleable\"><input class=\"sk-toggleable__control sk-hidden--visually\" id=\"d4815de1-0291-456a-9bf1-08cddee88592\" type=\"checkbox\" ><label class=\"sk-toggleable__label\" for=\"d4815de1-0291-456a-9bf1-08cddee88592\">SimpleImputer</label><div class=\"sk-toggleable__content\"><pre>SimpleImputer(fill_value='missing', strategy='constant')</pre></div></div></div><div class=\"sk-item\"><div class=\"sk-estimator sk-toggleable\"><input class=\"sk-toggleable__control sk-hidden--visually\" id=\"9609feb0-8532-4212-890a-20e46e37c5be\" type=\"checkbox\" ><label class=\"sk-toggleable__label\" for=\"9609feb0-8532-4212-890a-20e46e37c5be\">OneHotEncoder</label><div class=\"sk-toggleable__content\"><pre>OneHotEncoder(handle_unknown='ignore')</pre></div></div></div></div></div></div></div></div><div class=\"sk-parallel-item\"><div class=\"sk-item\"><div class=\"sk-label-container\"><div class=\"sk-label sk-toggleable\"><input class=\"sk-toggleable__control sk-hidden--visually\" id=\"40de3646-04c7-46a5-87bb-3ac8bbc444c9\" type=\"checkbox\" ><label class=\"sk-toggleable__label\" for=\"40de3646-04c7-46a5-87bb-3ac8bbc444c9\">age</label><div class=\"sk-toggleable__content\"><pre>['Age', 'Sex', 'Pclass', 'Title']</pre></div></div></div><div class=\"sk-serial\"><div class=\"sk-item\"><div class=\"sk-serial\"><div class=\"sk-item\"><div class=\"sk-estimator sk-toggleable\"><input class=\"sk-toggleable__control sk-hidden--visually\" id=\"821887cb-e177-4920-a591-aed9a19a74c2\" type=\"checkbox\" ><label class=\"sk-toggleable__label\" for=\"821887cb-e177-4920-a591-aed9a19a74c2\">GroupImputer</label><div class=\"sk-toggleable__content\"><pre>GroupImputer(group_cols=['Sex', 'Pclass', 'Title'], target='Age')</pre></div></div></div><div class=\"sk-item\"><div class=\"sk-estimator sk-toggleable\"><input class=\"sk-toggleable__control sk-hidden--visually\" id=\"707ad0fe-4112-4146-adfa-17a011e2bc64\" type=\"checkbox\" ><label class=\"sk-toggleable__label\" for=\"707ad0fe-4112-4146-adfa-17a011e2bc64\">StandardScaler</label><div class=\"sk-toggleable__content\"><pre>StandardScaler()</pre></div></div></div></div></div></div></div></div></div></div><div class=\"sk-item\"><div class=\"sk-estimator sk-toggleable\"><input class=\"sk-toggleable__control sk-hidden--visually\" id=\"61646c76-2ae8-4612-9a9e-3399b9a70507\" type=\"checkbox\" ><label class=\"sk-toggleable__label\" for=\"61646c76-2ae8-4612-9a9e-3399b9a70507\">SVC</label><div class=\"sk-toggleable__content\"><pre>SVC()</pre></div></div></div></div></div></div></div>"
      ],
      "text/plain": [
       "Pipeline(steps=[('columntransformer',\n",
       "                 ColumnTransformer(transformers=[('num',\n",
       "                                                  Pipeline(steps=[('imputer',\n",
       "                                                                   SimpleImputer(add_indicator=True)),\n",
       "                                                                  ('scaler',\n",
       "                                                                   StandardScaler())]),\n",
       "                                                  ['Pclass', 'SibSp', 'Parch',\n",
       "                                                   'Fare']),\n",
       "                                                 ('cat',\n",
       "                                                  Pipeline(steps=[('imputer',\n",
       "                                                                   SimpleImputer(fill_value='missing',\n",
       "                                                                                 strategy='constant')),\n",
       "                                                                  ('onehot',\n",
       "                                                                   OneHotEncoder(handle_unknown='ignore'))]),\n",
       "                                                  ['Sex', 'Embarked', 'Title']),\n",
       "                                                 ('age',\n",
       "                                                  Pipeline(steps=[('imputer',\n",
       "                                                                   GroupImputer(group_cols=['Sex',\n",
       "                                                                                            'Pclass',\n",
       "                                                                                            'Title'],\n",
       "                                                                                target='Age')),\n",
       "                                                                  ('scaler',\n",
       "                                                                   StandardScaler())]),\n",
       "                                                  ['Age', 'Sex', 'Pclass',\n",
       "                                                   'Title'])])),\n",
       "                ('svc', SVC())])"
      ]
     },
     "execution_count": 24,
     "metadata": {},
     "output_type": "execute_result"
    }
   ],
   "source": [
    "final_model = models[\"SVM_rbf\"]\n",
    "final_model.fit(x,y)"
   ]
  },
  {
   "cell_type": "code",
   "execution_count": 26,
   "metadata": {},
   "outputs": [
    {
     "data": {
      "text/plain": [
       "array([0, 1, 0, 0, 1, 0, 1, 0, 1, 0, 0, 0, 1, 0, 1, 1, 0, 0, 0, 1, 0, 1,\n",
       "       1, 0, 1, 0, 1, 0, 0, 0, 0, 0, 1, 1, 0, 0, 1, 1, 0, 0, 0, 0, 0, 1,\n",
       "       1, 0, 0, 0, 1, 1, 0, 0, 1, 1, 0, 0, 0, 0, 0, 1, 0, 0, 0, 1, 1, 1,\n",
       "       1, 0, 0, 0, 1, 0, 1, 0, 1, 0, 0, 1, 0, 1, 1, 0, 0, 0, 0, 0, 1, 1,\n",
       "       1, 1, 1, 0, 1, 0, 0, 0, 1, 0, 1, 0, 1, 0, 0, 0, 1, 0, 0, 0, 0, 0,\n",
       "       0, 1, 1, 1, 1, 0, 0, 1, 0, 1, 1, 0, 1, 0, 0, 1, 0, 1, 0, 0, 0, 0,\n",
       "       0, 0, 0, 0, 0, 0, 1, 0, 0, 1, 0, 0, 0, 0, 0, 0, 0, 0, 1, 0, 0, 1,\n",
       "       0, 0, 1, 1, 0, 1, 1, 1, 1, 0, 0, 1, 0, 0, 1, 1, 0, 0, 0, 0, 0, 1,\n",
       "       1, 0, 1, 1, 0, 0, 1, 0, 1, 0, 1, 0, 0, 0, 0, 0, 1, 0, 1, 0, 1, 1,\n",
       "       0, 1, 1, 1, 0, 1, 0, 0, 1, 0, 1, 0, 0, 0, 0, 1, 0, 0, 1, 0, 1, 0,\n",
       "       1, 0, 1, 0, 1, 1, 0, 1, 0, 0, 0, 1, 0, 0, 0, 0, 0, 0, 1, 1, 1, 1,\n",
       "       0, 0, 1, 0, 1, 0, 1, 1, 1, 0, 0, 0, 0, 0, 0, 0, 1, 0, 0, 0, 1, 1,\n",
       "       0, 0, 0, 0, 1, 0, 0, 0, 1, 1, 0, 1, 0, 0, 0, 0, 1, 1, 1, 1, 1, 0,\n",
       "       0, 0, 0, 0, 0, 1, 0, 0, 0, 0, 1, 0, 0, 0, 0, 0, 0, 0, 1, 1, 0, 1,\n",
       "       0, 1, 0, 0, 0, 1, 1, 1, 0, 0, 0, 0, 0, 0, 0, 0, 1, 0, 1, 0, 0, 0,\n",
       "       1, 0, 0, 1, 0, 0, 0, 0, 0, 1, 0, 0, 0, 1, 1, 1, 0, 1, 0, 1, 1, 0,\n",
       "       0, 0, 1, 0, 1, 0, 0, 1, 0, 1, 1, 0, 1, 0, 0, 1, 1, 0, 0, 1, 0, 0,\n",
       "       1, 1, 0, 0, 0, 0, 0, 0, 1, 1, 0, 1, 0, 0, 0, 0, 0, 1, 1, 0, 0, 1,\n",
       "       0, 1, 0, 0, 1, 0, 1, 0, 0, 0, 0, 0, 1, 1, 1, 1, 1, 0, 1, 0, 0, 1])"
      ]
     },
     "execution_count": 26,
     "metadata": {},
     "output_type": "execute_result"
    }
   ],
   "source": [
    "test_pred = final_model.predict(x_test)\n",
    "test_pred"
   ]
  },
  {
   "cell_type": "code",
   "execution_count": 27,
   "metadata": {},
   "outputs": [
    {
     "data": {
      "text/html": [
       "<div>\n",
       "<style scoped>\n",
       "    .dataframe tbody tr th:only-of-type {\n",
       "        vertical-align: middle;\n",
       "    }\n",
       "\n",
       "    .dataframe tbody tr th {\n",
       "        vertical-align: top;\n",
       "    }\n",
       "\n",
       "    .dataframe thead th {\n",
       "        text-align: right;\n",
       "    }\n",
       "</style>\n",
       "<table border=\"1\" class=\"dataframe\">\n",
       "  <thead>\n",
       "    <tr style=\"text-align: right;\">\n",
       "      <th></th>\n",
       "      <th>Survived</th>\n",
       "    </tr>\n",
       "    <tr>\n",
       "      <th>PassengerId</th>\n",
       "      <th></th>\n",
       "    </tr>\n",
       "  </thead>\n",
       "  <tbody>\n",
       "    <tr>\n",
       "      <th>892</th>\n",
       "      <td>0</td>\n",
       "    </tr>\n",
       "    <tr>\n",
       "      <th>893</th>\n",
       "      <td>1</td>\n",
       "    </tr>\n",
       "    <tr>\n",
       "      <th>894</th>\n",
       "      <td>0</td>\n",
       "    </tr>\n",
       "    <tr>\n",
       "      <th>895</th>\n",
       "      <td>0</td>\n",
       "    </tr>\n",
       "    <tr>\n",
       "      <th>896</th>\n",
       "      <td>1</td>\n",
       "    </tr>\n",
       "  </tbody>\n",
       "</table>\n",
       "</div>"
      ],
      "text/plain": [
       "             Survived\n",
       "PassengerId          \n",
       "892                 0\n",
       "893                 1\n",
       "894                 0\n",
       "895                 0\n",
       "896                 1"
      ]
     },
     "execution_count": 27,
     "metadata": {},
     "output_type": "execute_result"
    }
   ],
   "source": [
    "sub = pd.DataFrame(test_pred, index=x_test.index, columns=[\"Survived\"])\n",
    "sub.head()"
   ]
  },
  {
   "cell_type": "code",
   "execution_count": 28,
   "metadata": {},
   "outputs": [],
   "source": [
    "sub.to_csv(\"Titanic_sub.csv\")"
   ]
  },
  {
   "cell_type": "code",
   "execution_count": null,
   "metadata": {},
   "outputs": [],
   "source": []
  }
 ],
 "metadata": {
  "colab": {
   "collapsed_sections": [],
   "name": "Cuaderno ML.ipynb",
   "provenance": []
  },
  "kernelspec": {
   "display_name": "Python 3",
   "language": "python",
   "name": "python3"
  },
  "language_info": {
   "codemirror_mode": {
    "name": "ipython",
    "version": 3
   },
   "file_extension": ".py",
   "mimetype": "text/x-python",
   "name": "python",
   "nbconvert_exporter": "python",
   "pygments_lexer": "ipython3",
   "version": "3.9.1"
  },
  "toc": {
   "base_numbering": 1,
   "nav_menu": {},
   "number_sections": true,
   "sideBar": true,
   "skip_h1_title": false,
   "title_cell": "Table of Contents",
   "title_sidebar": "Contents",
   "toc_cell": false,
   "toc_position": {},
   "toc_section_display": true,
   "toc_window_display": false
  }
 },
 "nbformat": 4,
 "nbformat_minor": 1
}
